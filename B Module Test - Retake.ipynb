{
 "cells": [
  {
   "cell_type": "code",
   "execution_count": null,
   "metadata": {},
   "outputs": [],
   "source": [
    "import pandas as pd\n",
    "import numpy as np\n",
    "%matplotlib inline"
   ]
  },
  {
   "cell_type": "markdown",
   "metadata": {},
   "source": [
    "# B | Module Test"
   ]
  },
  {
   "cell_type": "markdown",
   "metadata": {},
   "source": [
    "<!-- BEGIN QUESTION -->\n",
    "\n",
    "## Part I&nbsp;&nbsp;&nbsp;&nbsp;&nbsp;&nbsp;(10 Points)"
   ]
  },
  {
   "cell_type": "code",
   "execution_count": null,
   "metadata": {
    "tags": []
   },
   "outputs": [],
   "source": [
    "# Write your shell commands here\n",
    "git clone https://github.com/hoangthuha/module-test-B-retake.git\n",
    "cd module-test-B-retake/\n",
    "mkdir test_v2\n",
    "touch test_v2/moduleB \n",
    "git add .\n",
    "git commit -m \"first commit\"\n",
    "git push\n",
    "\n"
   ]
  },
  {
   "cell_type": "markdown",
   "metadata": {},
   "source": [
    "Your solution to this question should **also** include file, submitted alongside this notebook."
   ]
  },
  {
   "cell_type": "markdown",
   "metadata": {},
   "source": [
    "<!-- BEGIN QUESTION -->\n",
    "\n",
    "## Part II&nbsp;&nbsp;&nbsp;&nbsp;&nbsp;&nbsp;(10 Points)"
   ]
  },
  {
   "cell_type": "markdown",
   "metadata": {
    "tags": []
   },
   "source": [
    "Your solution to this question should be a file, submitted alongside this notebook."
   ]
  },
  {
   "cell_type": "markdown",
   "metadata": {},
   "source": [
    "<!-- END QUESTION -->\n",
    "\n",
    "<!-- BEGIN QUESTION -->\n",
    "\n",
    "## Part III&nbsp;&nbsp;&nbsp;&nbsp;&nbsp;&nbsp;(30 Points)"
   ]
  },
  {
   "cell_type": "code",
   "execution_count": null,
   "metadata": {
    "tags": []
   },
   "outputs": [],
   "source": [
    "# Write your test cases and comments here\n",
    "\n",
    "#normal test case \n",
    "a = 10\n",
    "count = 5\n",
    "#edge test case \n",
    "a = 5\n",
    "count = 5\n",
    "#inverted test case\n",
    "a = 0\n",
    "count = 6"
   ]
  },
  {
   "cell_type": "code",
   "execution_count": null,
   "metadata": {
    "tags": []
   },
   "outputs": [],
   "source": [
    "# Write the fixed code here\n",
    "a=12\n",
    "count = 0\n",
    "\n",
    "while count<=a:\n",
    "    if a%count == 0:\n",
    "        print (count)\n",
    "        count+=1"
   ]
  },
  {
   "cell_type": "markdown",
   "metadata": {},
   "source": [
    "Write your debugging steps here"
   ]
  },
  {
   "cell_type": "markdown",
   "metadata": {},
   "source": [
    "<!-- END QUESTION -->\n",
    "\n",
    "<!-- BEGIN QUESTION -->\n",
    "\n",
    "## Part IV&nbsp;&nbsp;&nbsp;&nbsp;&nbsp;&nbsp;(50 Points)"
   ]
  },
  {
   "cell_type": "code",
   "execution_count": null,
   "metadata": {
    "tags": []
   },
   "outputs": [],
   "source": [
    "# Write your shell commands here\n",
    "\n",
    "#1\n",
    "mkdir part4\n",
    "cd part4\n",
    "git init\n",
    "\n",
    "#2\n",
    "touch README.md\n",
    "touch LICENSE\n",
    "mkdir directory1\n",
    "cd  directory1\n",
    "mkdir directory2 \n",
    "cd directory2\n",
    "mkdir directory3\n",
    "touch file1\n",
    "cd directory3\n",
    "touch file2\n",
    "cd ..\n",
    "cd ..\n",
    "cd ..\n",
    "mkdir directory4\n",
    "cd directory4\n",
    "touch file3\n",
    "\n",
    "#3\n",
    "git add .\n",
    "git commit -m \"commit\"\n",
    "\n",
    "#4\n",
    "git checkout -b newfeature\n",
    "\n",
    "#5\n",
    "\n",
    "cp -r directory2 directory4/directory2_copy\n",
    "cd ./directory4/directory2_copy\n",
    "rm file1\n",
    "cd ./directory1/directory2/directory3\n",
    "touch file3\n",
    "mv directory4/file3 directory1/directory3\n",
    "\n",
    "lic = open('LICENSE','w')\n",
    "lic.write('This program is free software: you can redistribute it and/or modify \\nit under the terms of the GNU General Public License ...')\n",
    "lic.close()\n",
    "\n",
    "#6\n",
    "git add .\n",
    "git commit -m \"newfeature2 \"\n",
    "\n",
    "#7\n",
    "read = open('README.md','w')\n",
    "read.write('Permission is hereby granted, free of charge, to any person obtaining a copy of this software and associated documentation files (the “Software”), to deal in the Software without restriction ...')\n",
    "read.close()\n",
    "\n",
    "#8\n",
    "git checkout newfeature\n",
    "git add .\n",
    "git commit -m \"merge\"\n"
   ]
  },
  {
   "cell_type": "markdown",
   "metadata": {},
   "source": [
    "Your solution to this question should **also** include a file, submitted alongside this notebook."
   ]
  },
  {
   "cell_type": "markdown",
   "metadata": {},
   "source": [
    "<!-- END QUESTION -->\n",
    "\n"
   ]
  }
 ],
 "metadata": {
  "celltoolbar": "Edit Metadata",
  "kernelspec": {
   "display_name": "Python 3",
   "language": "python",
   "name": "python3"
  },
  "language_info": {
   "codemirror_mode": {
    "name": "ipython",
    "version": 3
   },
   "file_extension": ".py",
   "mimetype": "text/x-python",
   "name": "python",
   "nbconvert_exporter": "python",
   "pygments_lexer": "ipython3",
   "version": "3.6.13"
  },
  "varInspector": {
   "cols": {
    "lenName": 16,
    "lenType": 16,
    "lenVar": 40
   },
   "kernels_config": {
    "python": {
     "delete_cmd_postfix": "",
     "delete_cmd_prefix": "del ",
     "library": "var_list.py",
     "varRefreshCmd": "print(var_dic_list())"
    },
    "r": {
     "delete_cmd_postfix": ") ",
     "delete_cmd_prefix": "rm(",
     "library": "var_list.r",
     "varRefreshCmd": "cat(var_dic_list()) "
    }
   },
   "types_to_exclude": [
    "module",
    "function",
    "builtin_function_or_method",
    "instance",
    "_Feature"
   ],
   "window_display": false
  }
 },
 "nbformat": 4,
 "nbformat_minor": 4
}
